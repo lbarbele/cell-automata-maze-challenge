{
 "cells": [
  {
   "cell_type": "code",
   "execution_count": 5,
   "metadata": {},
   "outputs": [],
   "source": [
    "import numpy as np\n",
    "\n",
    "import sys\n",
    "sys.path.append('..')\n",
    "from lib.maze import Maze\n",
    "from lib.cell import Cell"
   ]
  },
  {
   "cell_type": "code",
   "execution_count": null,
   "metadata": {},
   "outputs": [],
   "source": [
    "maze = Maze(np.loadtxt('../data/input.txt', dtype = int))\n",
    "# maze.draw()"
   ]
  },
  {
   "cell_type": "code",
   "execution_count": null,
   "metadata": {},
   "outputs": [],
   "source": [
    "path = maze.solve(max_steps = 1000, verbose = True)"
   ]
  },
  {
   "cell_type": "code",
   "execution_count": null,
   "metadata": {},
   "outputs": [],
   "source": [
    "path"
   ]
  },
  {
   "cell_type": "code",
   "execution_count": null,
   "metadata": {},
   "outputs": [],
   "source": [
    "def get_direction(stp):\n",
    "  if stp[0] == 1 and stp[1] == 0:\n",
    "    return 'D'\n",
    "  elif stp[0] == -1 and stp[1] == 0:\n",
    "    return 'U'\n",
    "  elif stp[0] == 0 and stp[1] == 1:\n",
    "    return 'R'\n",
    "  elif stp[0] == 0 and stp[1] == -1:\n",
    "    return 'L'\n",
    "  else:\n",
    "    raise RuntimeError(f'bad step {stp}')\n",
    "\n",
    "steps = np.array(path)[1:] - np.array(path)[:-1]\n",
    "directions = [get_direction(s) for s in steps]\n",
    "print(*directions)"
   ]
  }
 ],
 "metadata": {
  "kernelspec": {
   "display_name": "Python 3",
   "language": "python",
   "name": "python3"
  },
  "language_info": {
   "codemirror_mode": {
    "name": "ipython",
    "version": 3
   },
   "file_extension": ".py",
   "mimetype": "text/x-python",
   "name": "python",
   "nbconvert_exporter": "python",
   "pygments_lexer": "ipython3",
   "version": "3.10.9"
  },
  "orig_nbformat": 4,
  "vscode": {
   "interpreter": {
    "hash": "e7370f93d1d0cde622a1f8e1c04877d8463912d04d973331ad4851f04de6915a"
   }
  }
 },
 "nbformat": 4,
 "nbformat_minor": 2
}
