{
 "cells": [
  {
   "cell_type": "code",
   "execution_count": 1,
   "metadata": {},
   "outputs": [],
   "source": [
    "%matplotlib ipympl\n",
    "\n",
    "import numpy as np\n",
    "\n",
    "import sys\n",
    "sys.path.append('..')\n",
    "from lib.maze import Maze\n",
    "from lib.cell import Cell"
   ]
  },
  {
   "attachments": {},
   "cell_type": "markdown",
   "metadata": {},
   "source": [
    "### input/output configuration"
   ]
  },
  {
   "cell_type": "code",
   "execution_count": 2,
   "metadata": {},
   "outputs": [],
   "source": [
    "input_file = '../data/input.txt'\n",
    "output_file = '../data/output.txt'"
   ]
  },
  {
   "attachments": {},
   "cell_type": "markdown",
   "metadata": {},
   "source": [
    "### Read maze from file"
   ]
  },
  {
   "cell_type": "code",
   "execution_count": 3,
   "metadata": {},
   "outputs": [
    {
     "data": {
      "text/plain": [
       "<matplotlib.image.AxesImage at 0x7fbafc0cd030>"
      ]
     },
     "execution_count": 3,
     "metadata": {},
     "output_type": "execute_result"
    },
    {
     "data": {
      "application/vnd.jupyter.widget-view+json": {
       "model_id": "f69373406f6a4c0b99a988828aa27392",
       "version_major": 2,
       "version_minor": 0
      },
      "image/png": "[encoded data removed]",
      "text/html": [
       "\n",
       "            <div style=\"display: inline-block;\">\n",
       "                <div class=\"jupyter-widgets widget-label\" style=\"text-align: center;\">\n",
       "                    Figure\n",
       "                </div>\n",
       "                <img src='data:image/png;base64,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' width=627.6923076923077/>\n",
       "            </div>\n",
       "        "
      ],
      "text/plain": [
       "Canvas(toolbar=Toolbar(toolitems=[('Home', 'Reset original view', 'home', 'home'), ('Back', 'Back to previous …"
      ]
     },
     "metadata": {},
     "output_type": "display_data"
    }
   ],
   "source": [
    "maze = Maze.from_file(input_file)\n",
    "maze.draw()"
   ]
  },
  {
   "attachments": {},
   "cell_type": "markdown",
   "metadata": {},
   "source": [
    "### Solve maze"
   ]
  },
  {
   "cell_type": "code",
   "execution_count": 4,
   "metadata": {},
   "outputs": [
    {
     "name": "stdout",
     "output_type": "stream",
     "text": [
      "step: 0, paths: 2, shortest distance to finish: 104.80935072788114\n",
      "step: 1, paths: 4, shortest distance to finish: 104.01922899156675\n",
      "step: 2, paths: 6, shortest distance to finish: 103.23274674249446\n",
      "step: 3, paths: 9, shortest distance to finish: 102.44998779892558\n",
      "step: 4, paths: 12, shortest distance to finish: 101.67103815738285\n",
      "step: 5, paths: 16, shortest distance to finish: 100.89598604503551\n",
      "step: 6, paths: 20, shortest distance to finish: 100.12492197250393\n",
      "step: 7, paths: 25, shortest distance to finish: 99.35793878699377\n",
      "step: 8, paths: 30, shortest distance to finish: 98.59513172565875\n",
      "step: 9, paths: 36, shortest distance to finish: 97.83659846908007\n",
      "step: 10, paths: 42, shortest distance to finish: 97.082439194738\n",
      "step: 11, paths: 49, shortest distance to finish: 96.33275663033837\n",
      "step: 12, paths: 56, shortest distance to finish: 95.58765610684259\n",
      "step: 13, paths: 64, shortest distance to finish: 94.847245611035\n",
      "step: 14, paths: 72, shortest distance to finish: 94.11163583744573\n",
      "step: 15, paths: 81, shortest distance to finish: 93.38094023943002\n",
      "step: 16, paths: 90, shortest distance to finish: 92.65527507918802\n",
      "step: 17, paths: 100, shortest distance to finish: 91.93475947648963\n",
      "step: 18, paths: 110, shortest distance to finish: 91.21951545584969\n",
      "step: 19, paths: 121, shortest distance to finish: 90.50966799187809\n",
      "step: 20, paths: 127, shortest distance to finish: 89.80534505250787\n",
      "step: 21, paths: 133, shortest distance to finish: 89.09545442950498\n",
      "step: 22, paths: 138, shortest distance to finish: 88.3911760301898\n",
      "step: 23, paths: 136, shortest distance to finish: 87.72684879784524\n",
      "step: 24, paths: 137, shortest distance to finish: 87.04596486914255\n",
      "step: 25, paths: 128, shortest distance to finish: 86.37129152675674\n",
      "step: 26, paths: 131, shortest distance to finish: 85.63293758829018\n",
      "step: 27, paths: 120, shortest distance to finish: 84.8999411071645\n",
      "step: 28, paths: 118, shortest distance to finish: 84.17244204607586\n",
      "step: 29, paths: 111, shortest distance to finish: 84.86459803710851\n",
      "step: 30, paths: 113, shortest distance to finish: 84.1486779456457\n",
      "step: 31, paths: 109, shortest distance to finish: 83.43860018001261\n",
      "step: 32, paths: 110, shortest distance to finish: 82.73451516749222\n",
      "step: 33, paths: 114, shortest distance to finish: 82.02438661763951\n",
      "step: 34, paths: 111, shortest distance to finish: 81.32035415564789\n",
      "step: 35, paths: 115, shortest distance to finish: 80.62257748298549\n",
      "step: 36, paths: 104, shortest distance to finish: 79.90619500389191\n",
      "step: 37, paths: 110, shortest distance to finish: 79.20858539325141\n",
      "step: 38, paths: 94, shortest distance to finish: 79.93122043357026\n",
      "step: 39, paths: 100, shortest distance to finish: 79.20858539325141\n",
      "step: 40, paths: 114, shortest distance to finish: 78.56844150166147\n",
      "step: 41, paths: 116, shortest distance to finish: 79.2464510246358\n",
      "step: 42, paths: 111, shortest distance to finish: 78.5175139698144\n",
      "step: 43, paths: 114, shortest distance to finish: 77.83315488916018\n",
      "step: 44, paths: 122, shortest distance to finish: 77.62087348130012\n",
      "step: 45, paths: 129, shortest distance to finish: 76.83749084919418\n",
      "step: 46, paths: 139, shortest distance to finish: 76.05918747922567\n",
      "step: 47, paths: 148, shortest distance to finish: 75.43208866258443\n",
      "step: 48, paths: 167, shortest distance to finish: 74.81310045707235\n",
      "step: 49, paths: 151, shortest distance to finish: 75.07329751649384\n",
      "step: 50, paths: 156, shortest distance to finish: 74.51845409024533\n",
      "step: 51, paths: 159, shortest distance to finish: 74.02702209328699\n",
      "step: 52, paths: 158, shortest distance to finish: 73.24616030891995\n",
      "step: 53, paths: 174, shortest distance to finish: 72.47068372797375\n",
      "step: 54, paths: 157, shortest distance to finish: 71.84010022264724\n",
      "step: 55, paths: 172, shortest distance to finish: 71.06335201775947\n",
      "step: 56, paths: 169, shortest distance to finish: 70.2922470831599\n",
      "step: 57, paths: 181, shortest distance to finish: 71.06335201775947\n",
      "step: 58, paths: 181, shortest distance to finish: 71.02816342831905\n",
      "step: 59, paths: 169, shortest distance to finish: 70.76722405181653\n",
      "step: 60, paths: 157, shortest distance to finish: 70.03570517957252\n",
      "step: 61, paths: 158, shortest distance to finish: 70.0\n",
      "step: 62, paths: 182, shortest distance to finish: 69.40461079784254\n",
      "step: 63, paths: 198, shortest distance to finish: 68.60029154456998\n",
      "step: 64, paths: 184, shortest distance to finish: 68.00735254367721\n",
      "step: 65, paths: 193, shortest distance to finish: 67.89698078707183\n",
      "step: 66, paths: 209, shortest distance to finish: 67.47592163134935\n",
      "step: 67, paths: 223, shortest distance to finish: 68.01470429252781\n",
      "step: 68, paths: 218, shortest distance to finish: 67.35725647619564\n",
      "step: 69, paths: 241, shortest distance to finish: 66.84309986827361\n",
      "step: 70, paths: 230, shortest distance to finish: 66.06814663663572\n",
      "step: 71, paths: 219, shortest distance to finish: 65.43699259593154\n",
      "step: 72, paths: 241, shortest distance to finish: 65.85590330410783\n",
      "step: 73, paths: 238, shortest distance to finish: 65.11528238439882\n",
      "step: 74, paths: 225, shortest distance to finish: 64.38167441127949\n",
      "step: 75, paths: 233, shortest distance to finish: 64.20280367709809\n",
      "step: 76, paths: 248, shortest distance to finish: 63.41135544995076\n",
      "step: 77, paths: 254, shortest distance to finish: 62.625873247404705\n",
      "step: 78, paths: 225, shortest distance to finish: 62.00806399170998\n",
      "step: 79, paths: 248, shortest distance to finish: 61.220911460055866\n",
      "step: 80, paths: 239, shortest distance to finish: 60.440052945046304\n",
      "step: 81, paths: 254, shortest distance to finish: 61.07372593840988\n",
      "step: 82, paths: 254, shortest distance to finish: 60.30754513325841\n",
      "step: 83, paths: 264, shortest distance to finish: 59.54829972383762\n",
      "step: 84, paths: 265, shortest distance to finish: 59.033888572581766\n",
      "step: 85, paths: 306, shortest distance to finish: 58.25804665451803\n",
      "step: 86, paths: 301, shortest distance to finish: 57.62811813689564\n",
      "step: 87, paths: 304, shortest distance to finish: 56.85068161420758\n",
      "step: 88, paths: 301, shortest distance to finish: 56.61271941887264\n",
      "step: 89, paths: 322, shortest distance to finish: 56.586217403180434\n",
      "step: 90, paths: 301, shortest distance to finish: 55.86591089385369\n",
      "step: 91, paths: 312, shortest distance to finish: 55.60575509783138\n",
      "step: 92, paths: 332, shortest distance to finish: 55.86591089385369\n",
      "step: 93, paths: 317, shortest distance to finish: 55.17245689653489\n",
      "step: 94, paths: 317, shortest distance to finish: 55.0\n",
      "step: 95, paths: 346, shortest distance to finish: 54.20332093147061\n",
      "step: 96, paths: 344, shortest distance to finish: 53.41348144429457\n",
      "step: 97, paths: 350, shortest distance to finish: 52.80151512977634\n",
      "step: 98, paths: 379, shortest distance to finish: 52.009614495783374\n",
      "step: 99, paths: 371, shortest distance to finish: 51.40038910358559\n",
      "step: 100, paths: 373, shortest distance to finish: 50.60632371551998\n",
      "step: 101, paths: 385, shortest distance to finish: 51.088159097779204\n",
      "step: 102, paths: 388, shortest distance to finish: 50.44799302251776\n",
      "step: 103, paths: 409, shortest distance to finish: 49.678969393496885\n",
      "step: 104, paths: 401, shortest distance to finish: 51.03920062069938\n",
      "step: 105, paths: 408, shortest distance to finish: 51.22499389946279\n",
      "step: 106, paths: 412, shortest distance to finish: 50.60632371551998\n",
      "step: 107, paths: 412, shortest distance to finish: 50.21951811795888\n",
      "step: 108, paths: 401, shortest distance to finish: 49.4064773081425\n",
      "step: 109, paths: 414, shortest distance to finish: 49.09175083453431\n",
      "step: 110, paths: 430, shortest distance to finish: 48.54894437575342\n",
      "step: 111, paths: 423, shortest distance to finish: 48.02082881417188\n",
      "step: 112, paths: 413, shortest distance to finish: 48.010415536631214\n",
      "step: 113, paths: 404, shortest distance to finish: 49.8196748283246\n",
      "step: 114, paths: 417, shortest distance to finish: 49.20365840057018\n",
      "step: 115, paths: 408, shortest distance to finish: 48.41487374764082\n",
      "step: 116, paths: 441, shortest distance to finish: 47.634021455258214\n",
      "step: 117, paths: 466, shortest distance to finish: 47.20169488482379\n",
      "step: 118, paths: 481, shortest distance to finish: 47.4236228055175\n",
      "step: 119, paths: 479, shortest distance to finish: 46.69047011971501\n",
      "step: 120, paths: 492, shortest distance to finish: 46.010868281309364\n",
      "step: 121, paths: 517, shortest distance to finish: 45.34313619501854\n",
      "step: 122, paths: 511, shortest distance to finish: 44.598206241955516\n",
      "step: 123, paths: 501, shortest distance to finish: 46.75467891024384\n",
      "step: 124, paths: 523, shortest distance to finish: 46.010868281309364\n",
      "step: 125, paths: 515, shortest distance to finish: 45.27692569068709\n",
      "step: 126, paths: 534, shortest distance to finish: 44.598206241955516\n",
      "step: 127, paths: 545, shortest distance to finish: 43.93176527297759\n",
      "step: 128, paths: 603, shortest distance to finish: 43.278170016764804\n",
      "step: 129, paths: 573, shortest distance to finish: 44.04543109109048\n",
      "step: 130, paths: 561, shortest distance to finish: 44.553338819890925\n",
      "step: 131, paths: 565, shortest distance to finish: 43.93176527297759\n",
      "step: 132, paths: 594, shortest distance to finish: 43.18564576337837\n",
      "step: 133, paths: 572, shortest distance to finish: 42.80186911806539\n",
      "step: 134, paths: 566, shortest distance to finish: 42.01190307520001\n",
      "step: 135, paths: 613, shortest distance to finish: 41.23105625617661\n",
      "step: 136, paths: 581, shortest distance to finish: 41.340053217188775\n",
      "step: 137, paths: 623, shortest distance to finish: 41.10960958218893\n",
      "step: 138, paths: 599, shortest distance to finish: 40.607881008493905\n",
      "step: 139, paths: 588, shortest distance to finish: 39.824615503479755\n",
      "step: 140, paths: 587, shortest distance to finish: 39.05124837953327\n",
      "step: 141, paths: 603, shortest distance to finish: 38.28837943815329\n",
      "step: 142, paths: 600, shortest distance to finish: 38.948684188300895\n",
      "step: 143, paths: 624, shortest distance to finish: 38.2099463490856\n",
      "step: 144, paths: 633, shortest distance to finish: 37.48332962798263\n",
      "step: 145, paths: 617, shortest distance to finish: 36.796738985948195\n",
      "step: 146, paths: 617, shortest distance to finish: 36.124783736376884\n",
      "step: 147, paths: 640, shortest distance to finish: 38.18376618407357\n",
      "step: 148, paths: 634, shortest distance to finish: 37.48332962798263\n",
      "step: 149, paths: 658, shortest distance to finish: 36.796738985948195\n",
      "step: 150, paths: 670, shortest distance to finish: 37.48332962798263\n",
      "step: 151, paths: 666, shortest distance to finish: 36.796738985948195\n",
      "step: 152, paths: 673, shortest distance to finish: 36.069377593742864\n",
      "step: 153, paths: 673, shortest distance to finish: 35.35533905932738\n",
      "step: 154, paths: 699, shortest distance to finish: 34.655446902326915\n",
      "step: 155, paths: 708, shortest distance to finish: 35.4682957019364\n",
      "step: 156, paths: 749, shortest distance to finish: 34.828149534535996\n",
      "step: 157, paths: 728, shortest distance to finish: 34.20526275297414\n",
      "step: 158, paths: 768, shortest distance to finish: 33.421549934136806\n",
      "step: 159, paths: 774, shortest distance to finish: 32.64965543462902\n",
      "step: 160, paths: 770, shortest distance to finish: 33.24154027718932\n",
      "step: 161, paths: 757, shortest distance to finish: 32.64965543462902\n",
      "step: 162, paths: 767, shortest distance to finish: 31.89043743820395\n",
      "step: 163, paths: 777, shortest distance to finish: 31.144823004794873\n",
      "step: 164, paths: 757, shortest distance to finish: 30.4138126514911\n",
      "step: 165, paths: 750, shortest distance to finish: 29.698484809834994\n",
      "step: 166, paths: 799, shortest distance to finish: 29.0\n",
      "step: 167, paths: 801, shortest distance to finish: 28.319604517012593\n",
      "step: 168, paths: 815, shortest distance to finish: 27.586228448267445\n",
      "step: 169, paths: 796, shortest distance to finish: 26.90724809414742\n",
      "step: 170, paths: 770, shortest distance to finish: 26.248809496813376\n",
      "step: 171, paths: 835, shortest distance to finish: 25.495097567963924\n",
      "step: 172, paths: 849, shortest distance to finish: 24.839484696748443\n",
      "step: 173, paths: 836, shortest distance to finish: 24.08318915758459\n",
      "step: 174, paths: 838, shortest distance to finish: 26.1725046566048\n",
      "step: 175, paths: 853, shortest distance to finish: 25.45584412271571\n",
      "step: 176, paths: 886, shortest distance to finish: 26.1725046566048\n",
      "step: 177, paths: 901, shortest distance to finish: 25.495097567963924\n",
      "step: 178, paths: 885, shortest distance to finish: 24.839484696748443\n",
      "step: 179, paths: 873, shortest distance to finish: 24.20743687382041\n",
      "step: 180, paths: 902, shortest distance to finish: 23.430749027719962\n",
      "step: 181, paths: 963, shortest distance to finish: 23.706539182259394\n",
      "step: 182, paths: 904, shortest distance to finish: 24.758836806279895\n",
      "step: 183, paths: 927, shortest distance to finish: 24.041630560342615\n",
      "step: 184, paths: 892, shortest distance to finish: 23.345235059857504\n",
      "step: 185, paths: 933, shortest distance to finish: 24.413111231467404\n",
      "step: 186, paths: 909, shortest distance to finish: 23.769728648009426\n",
      "step: 187, paths: 878, shortest distance to finish: 23.323807579381203\n",
      "step: 188, paths: 960, shortest distance to finish: 23.853720883753127\n",
      "step: 189, paths: 941, shortest distance to finish: 23.323807579381203\n",
      "step: 190, paths: 973, shortest distance to finish: 23.345235059857504\n",
      "step: 191, paths: 911, shortest distance to finish: 22.67156809750927\n",
      "step: 192, paths: 900, shortest distance to finish: 22.47220505424423\n",
      "step: 193, paths: 929, shortest distance to finish: 21.633307652783937\n",
      "step: 194, paths: 983, shortest distance to finish: 22.20360331117452\n",
      "step: 195, paths: 959, shortest distance to finish: 21.400934559032695\n",
      "step: 196, paths: 971, shortest distance to finish: 20.615528128088304\n",
      "step: 197, paths: 952, shortest distance to finish: 22.627416997969522\n",
      "step: 198, paths: 918, shortest distance to finish: 21.93171219946131\n",
      "step: 199, paths: 914, shortest distance to finish: 21.587033144922902\n",
      "step: 200, paths: 932, shortest distance to finish: 21.93171219946131\n",
      "step: 201, paths: 904, shortest distance to finish: 21.2602916254693\n",
      "step: 202, paths: 929, shortest distance to finish: 20.518284528683193\n",
      "step: 203, paths: 948, shortest distance to finish: 19.849433241279208\n",
      "step: 204, paths: 942, shortest distance to finish: 19.1049731745428\n",
      "step: 205, paths: 1016, shortest distance to finish: 18.384776310850235\n",
      "step: 206, paths: 953, shortest distance to finish: 19.1049731745428\n",
      "step: 207, paths: 942, shortest distance to finish: 18.384776310850235\n",
      "step: 208, paths: 973, shortest distance to finish: 17.46424919657298\n",
      "step: 209, paths: 958, shortest distance to finish: 17.08800749063506\n",
      "step: 210, paths: 973, shortest distance to finish: 16.64331697709324\n",
      "step: 211, paths: 986, shortest distance to finish: 16.1245154965971\n",
      "step: 212, paths: 1018, shortest distance to finish: 15.264337522473747\n",
      "step: 213, paths: 1033, shortest distance to finish: 14.560219778561036\n",
      "step: 214, paths: 971, shortest distance to finish: 14.866068747318506\n",
      "step: 215, paths: 1022, shortest distance to finish: 14.560219778561036\n",
      "step: 216, paths: 1016, shortest distance to finish: 15.264337522473747\n",
      "step: 217, paths: 1028, shortest distance to finish: 14.422205101855956\n",
      "step: 218, paths: 1045, shortest distance to finish: 13.892443989449804\n",
      "step: 219, paths: 1088, shortest distance to finish: 14.142135623730951\n",
      "step: 220, paths: 1013, shortest distance to finish: 13.45362404707371\n",
      "step: 221, paths: 1021, shortest distance to finish: 12.806248474865697\n",
      "step: 222, paths: 1025, shortest distance to finish: 13.45362404707371\n",
      "step: 223, paths: 965, shortest distance to finish: 12.649110640673518\n",
      "step: 224, paths: 973, shortest distance to finish: 12.041594578792296\n",
      "step: 225, paths: 1026, shortest distance to finish: 11.313708498984761\n",
      "step: 226, paths: 976, shortest distance to finish: 12.041594578792296\n",
      "step: 227, paths: 990, shortest distance to finish: 11.661903789690601\n",
      "step: 228, paths: 1024, shortest distance to finish: 10.816653826391969\n",
      "step: 229, paths: 1047, shortest distance to finish: 11.045361017187261\n",
      "step: 230, paths: 1038, shortest distance to finish: 10.63014581273465\n",
      "step: 231, paths: 1024, shortest distance to finish: 9.899494936611665\n",
      "step: 232, paths: 994, shortest distance to finish: 9.219544457292887\n",
      "step: 233, paths: 1020, shortest distance to finish: 8.48528137423857\n",
      "step: 234, paths: 1005, shortest distance to finish: 7.810249675906654\n",
      "step: 235, paths: 953, shortest distance to finish: 7.0710678118654755\n",
      "step: 236, paths: 1000, shortest distance to finish: 7.810249675906654\n",
      "step: 237, paths: 992, shortest distance to finish: 7.0710678118654755\n",
      "step: 238, paths: 1023, shortest distance to finish: 7.810249675906654\n",
      "step: 239, paths: 997, shortest distance to finish: 7.211102550927978\n",
      "step: 240, paths: 1023, shortest distance to finish: 6.708203932499369\n",
      "step: 241, paths: 1022, shortest distance to finish: 5.830951894845301\n",
      "step: 242, paths: 1012, shortest distance to finish: 5.385164807134504\n",
      "step: 243, paths: 1093, shortest distance to finish: 4.47213595499958\n",
      "step: 244, paths: 1064, shortest distance to finish: 5.385164807134504\n",
      "step: 245, paths: 1030, shortest distance to finish: 4.47213595499958\n",
      "step: 246, paths: 1004, shortest distance to finish: 6.082762530298219\n",
      "step: 247, paths: 1032, shortest distance to finish: 5.830951894845301\n",
      "step: 248, paths: 976, shortest distance to finish: 5.0\n",
      "step: 249, paths: 1039, shortest distance to finish: 5.830951894845301\n",
      "step: 250, paths: 1057, shortest distance to finish: 5.0\n",
      "step: 251, paths: 996, shortest distance to finish: 5.0990195135927845\n",
      "step: 252, paths: 1010, shortest distance to finish: 5.0\n",
      "step: 253, paths: 1021, shortest distance to finish: 4.47213595499958\n",
      "step: 254, paths: 1047, shortest distance to finish: 4.123105625617661\n",
      "step: 255, paths: 1006, shortest distance to finish: 3.1622776601683795\n",
      "step: 256, paths: 1016, shortest distance to finish: 2.23606797749979\n",
      "step: 257, paths: 1005, shortest distance to finish: 2.8284271247461903\n",
      "step: 258, paths: 1016, shortest distance to finish: 2.23606797749979\n",
      "step: 259, paths: 1052, shortest distance to finish: 2.8284271247461903\n",
      "step: 260, paths: 1000, shortest distance to finish: 3.0\n",
      "step: 261, paths: 1016, shortest distance to finish: 4.0\n",
      "step: 262, paths: 1038, shortest distance to finish: 5.0\n",
      "step: 263, paths: 1028, shortest distance to finish: 4.0\n",
      "step: 264, paths: 1040, shortest distance to finish: 3.0\n",
      "step: 265, paths: 1037, shortest distance to finish: 2.8284271247461903\n",
      "step: 266, paths: 1004, shortest distance to finish: 2.23606797749979\n",
      "step: 267, paths: 1070, shortest distance to finish: 2.0\n",
      "step: 268, paths: 1040, shortest distance to finish: 2.23606797749979\n",
      "step: 269, paths: 1040, shortest distance to finish: 2.0\n",
      "step: 270, paths: 1040, shortest distance to finish: 1.0\n"
     ]
    }
   ],
   "source": [
    "path = maze.solve(max_steps = 1000, verbose = True)"
   ]
  },
  {
   "cell_type": "code",
   "execution_count": 5,
   "metadata": {},
   "outputs": [
    {
     "data": {
      "application/vnd.jupyter.widget-view+json": {
       "model_id": "561ff993d7554815ae849702c012c3b0",
       "version_major": 2,
       "version_minor": 0
      },
      "image/png": "[encoded data removed]",
      "text/html": [
       "\n",
       "            <div style=\"display: inline-block;\">\n",
       "                <div class=\"jupyter-widgets widget-label\" style=\"text-align: center;\">\n",
       "                    Figure\n",
       "                </div>\n",
       "                <img src='data:image/png;base64,iVBORw0KGgoAAAANSUhEUgAAAoAAAAHgCAYAAAA10dzkAAAAOXRFWHRTb2Z0d2FyZQBNYXRwbG90bGliIHZlcnNpb24zLjYuMiwgaHR0cHM6Ly9tYXRwbG90bGliLm9yZy8o6BhiAAAACXBIWXMAAA9hAAAPYQGoP6dpAAAIyUlEQVR4nO3WMQEAIAzAMMC/5+ECjiYKenbPzCwAADLO7wAAAN4ygAAAMQYQACDGAAIAxBhAAIAYAwgAEGMAAQBiDCAAQIwBBACIMYAAADEGEAAgxgACAMQYQACAGAMIABBjAAEAYgwgAECMAQQAiDGAAAAxBhAAIMYAAgDEGEAAgBgDCAAQYwABAGIMIABAjAEEAIgxgAAAMQYQACDGAAIAxBhAAIAYAwgAEGMAAQBiDCAAQIwBBACIMYAAADEGEAAgxgACAMQYQACAGAMIABBjAAEAYgwgAECMAQQAiDGAAAAxBhAAIMYAAgDEGEAAgBgDCAAQYwABAGIMIABAjAEEAIgxgAAAMQYQACDGAAIAxBhAAIAYAwgAEGMAAQBiDCAAQIwBBACIMYAAADEGEAAgxgACAMQYQACAGAMIABBjAAEAYgwgAECMAQQAiDGAAAAxBhAAIMYAAgDEGEAAgBgDCAAQYwABAGIMIABAjAEEAIgxgAAAMQYQACDGAAIAxBhAAIAYAwgAEGMAAQBiDCAAQIwBBACIMYAAADEGEAAgxgACAMQYQACAGAMIABBjAAEAYgwgAECMAQQAiDGAAAAxBhAAIMYAAgDEGEAAgBgDCAAQYwABAGIMIABAjAEEAIgxgAAAMQYQACDGAAIAxBhAAIAYAwgAEGMAAQBiDCAAQIwBBACIMYAAADEGEAAgxgACAMQYQACAGAMIABBjAAEAYgwgAECMAQQAiDGAAAAxBhAAIMYAAgDEGEAAgBgDCAAQYwABAGIMIABAjAEEAIgxgAAAMQYQACDGAAIAxBhAAIAYAwgAEGMAAQBiDCAAQIwBBACIMYAAADEGEAAgxgACAMQYQACAGAMIABBjAAEAYgwgAECMAQQAiDGAAAAxBhAAIMYAAgDEGEAAgBgDCAAQYwABAGIMIABAjAEEAIgxgAAAMQYQACDGAAIAxBhAAIAYAwgAEGMAAQBiDCAAQIwBBACIMYAAADEGEAAgxgACAMQYQACAGAMIABBjAAEAYgwgAECMAQQAiDGAAAAxBhAAIMYAAgDEGEAAgBgDCAAQYwABAGIMIABAjAEEAIgxgAAAMQYQACDGAAIAxBhAAIAYAwgAEGMAAQBiDCAAQIwBBACIMYAAADEGEAAgxgACAMQYQACAGAMIABBjAAEAYgwgAECMAQQAiDGAAAAxBhAAIMYAAgDEGEAAgBgDCAAQYwABAGIMIABAjAEEAIgxgAAAMQYQACDGAAIAxBhAAIAYAwgAEGMAAQBiDCAAQIwBBACIMYAAADEGEAAgxgACAMQYQACAGAMIABBjAAEAYgwgAECMAQQAiDGAAAAxBhAAIMYAAgDEGEAAgBgDCAAQYwABAGIMIABAjAEEAIgxgAAAMQYQACDGAAIAxBhAAIAYAwgAEGMAAQBiDCAAQIwBBACIMYAAADEGEAAgxgACAMQYQACAGAMIABBjAAEAYgwgAECMAQQAiDGAAAAxBhAAIMYAAgDEGEAAgBgDCAAQYwABAGIMIABAjAEEAIgxgAAAMQYQACDGAAIAxBhAAIAYAwgAEGMAAQBiDCAAQIwBBACIMYAAADEGEAAgxgACAMQYQACAGAMIABBjAAEAYgwgAECMAQQAiDGAAAAxBhAAIMYAAgDEGEAAgBgDCAAQYwABAGIMIABAjAEEAIgxgAAAMQYQACDGAAIAxBhAAIAYAwgAEGMAAQBiDCAAQIwBBACIMYAAADEGEAAgxgACAMQYQACAGAMIABBjAAEAYgwgAECMAQQAiDGAAAAxBhAAIMYAAgDEGEAAgBgDCAAQYwABAGIMIABAjAEEAIgxgAAAMQYQACDGAAIAxBhAAIAYAwgAEGMAAQBiDCAAQIwBBACIMYAAADEGEAAgxgACAMQYQACAGAMIABBjAAEAYgwgAECMAQQAiDGAAAAxBhAAIMYAAgDEGEAAgBgDCAAQYwABAGIMIABAjAEEAIgxgAAAMQYQACDGAAIAxBhAAIAYAwgAEGMAAQBiDCAAQIwBBACIMYAAADEGEAAgxgACAMQYQACAGAMIABBjAAEAYgwgAECMAQQAiDGAAAAxBhAAIMYAAgDEGEAAgBgDCAAQYwABAGIMIABAjAEEAIgxgAAAMQYQACDGAAIAxBhAAIAYAwgAEGMAAQBiDCAAQIwBBACIMYAAADEGEAAgxgACAMQYQACAGAMIABBjAAEAYgwgAECMAQQAiDGAAAAxBhAAIMYAAgDEGEAAgBgDCAAQYwABAGIMIABAjAEEAIgxgAAAMQYQACDGAAIAxBhAAIAYAwgAEGMAAQBiDCAAQIwBBACIMYAAADEGEAAgxgACAMQYQACAGAMIABBjAAEAYgwgAECMAQQAiDGAAAAxBhAAIMYAAgDEGEAAgBgDCAAQYwABAGIMIABAjAEEAIgxgAAAMQYQACDGAAIAxBhAAIAYAwgAEGMAAQBiDCAAQIwBBACIMYAAADEGEAAgxgACAMQYQACAGAMIABBjAAEAYgwgAECMAQQAiDGAAAAxBhAAIMYAAgDEGEAAgBgDCAAQYwABAGIMIABAjAEEAIgxgAAAMQYQACDGAAIAxBhAAIAYAwgAEGMAAQBiDCAAQIwBBACIMYAAADEGEAAgxgACAMQYQACAGAMIABBjAAEAYgwgAECMAQQAiDGAAAAxBhAAIMYAAgDEGEAAgBgDCAAQYwABAGIMIABAjAEEAIgxgAAAMQYQACDGAAIAxBhAAIAYAwgAEGMAAQBiDCAAQIwBBACIMYAAADEGEAAgxgACAMQYQACAGAMIABBjAAEAYgwgAECMAQQAiDGAAAAxBhAAIMYAAgDEGEAAgBgDCAAQYwABAGIMIABAjAEEAIgxgAAAMQYQACDGAAIAxBhAAIAYAwgAEGMAAQBiDCAAQIwBBACIMYAAADEGEAAgxgACAMQYQACAGAMIABBjAAEAYgwgAECMAQQAiDGAAAAxBhAAIMYAAgDEGEAAgBgDCAAQYwABAGIuJnkHvKensmIAAAAASUVORK5CYII=' width=640.0/>\n",
       "            </div>\n",
       "        "
      ],
      "text/plain": [
       "Canvas(toolbar=Toolbar(toolitems=[('Home', 'Reset original view', 'home', 'home'), ('Back', 'Back to previous …"
      ]
     },
     "metadata": {},
     "output_type": "display_data"
    }
   ],
   "source": [
    "if path:\n",
    "  ani = maze.draw_animation(path = path, ms = 3)"
   ]
  },
  {
   "attachments": {},
   "cell_type": "markdown",
   "metadata": {},
   "source": [
    "### Convert solution into a sequence of directions"
   ]
  },
  {
   "cell_type": "code",
   "execution_count": 6,
   "metadata": {},
   "outputs": [
    {
     "name": "stdout",
     "output_type": "stream",
     "text": [
      "D D D D D D D D D D D D D D D D D D D D U U U U R R L L U D D U D U U R L U D D D D U R D U R R D R U R R D D L U L R R D D L L L L D D D D R L U D U D R U D D R R U D R R R L L D D D D D D D R D D U L R U R R R R R R R D D D R R D D U R R R D R R R U U D R R D D D D R R U U R D R R R R R U D R D R D D R R U R U D R R D R D D R U R D D D D D D R R D U D D D D R U R D R D R D D D R D D R D D R D R R R R R R L D D R L R R R R L R R R R L R U D U U R R R L U R R R U U R U R R R U R R R U D R R D R L D R R R D D R R R U L L R D D D D U D R R\n"
     ]
    }
   ],
   "source": [
    "def get_direction(stp):\n",
    "  if stp[0] == 1 and stp[1] == 0:\n",
    "    return 'D'\n",
    "  elif stp[0] == -1 and stp[1] == 0:\n",
    "    return 'U'\n",
    "  elif stp[0] == 0 and stp[1] == 1:\n",
    "    return 'R'\n",
    "  elif stp[0] == 0 and stp[1] == -1:\n",
    "    return 'L'\n",
    "  else:\n",
    "    raise RuntimeError(f'bad step {stp}')\n",
    "\n",
    "steps = np.array(path)[1:] - np.array(path)[:-1]\n",
    "directions = [get_direction(s) for s in steps]\n",
    "print(*directions)"
   ]
  },
  {
   "attachments": {},
   "cell_type": "markdown",
   "metadata": {},
   "source": [
    "### Write solution to the output file"
   ]
  },
  {
   "cell_type": "code",
   "execution_count": 7,
   "metadata": {},
   "outputs": [],
   "source": [
    "file = open(output_file, 'w')\n",
    "file.write(' '.join(directions) + '\\n')\n",
    "file.close()"
   ]
  }
 ],
 "metadata": {
  "kernelspec": {
   "display_name": "Python 3",
   "language": "python",
   "name": "python3"
  },
  "language_info": {
   "codemirror_mode": {
    "name": "ipython",
    "version": 3
   },
   "file_extension": ".py",
   "mimetype": "text/x-python",
   "name": "python",
   "nbconvert_exporter": "python",
   "pygments_lexer": "ipython3",
   "version": "3.10.9"
  },
  "orig_nbformat": 4,
  "vscode": {
   "interpreter": {
    "hash": "e7370f93d1d0cde622a1f8e1c04877d8463912d04d973331ad4851f04de6915a"
   }
  }
 },
 "nbformat": 4,
 "nbformat_minor": 2
}
